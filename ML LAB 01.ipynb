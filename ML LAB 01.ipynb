{
 "cells": [
  {
   "cell_type": "code",
   "execution_count": 1,
   "id": "39990610-fc0f-4277-867e-771a5d56bd39",
   "metadata": {},
   "outputs": [
    {
     "name": "stdout",
     "output_type": "stream",
     "text": [
      "Number of pairs with sum 10: 2\n"
     ]
    }
   ],
   "source": [
    "# question 01\n",
    "def count(lst):\n",
    "    count = 0\n",
    "    for i in range(len(lst)):\n",
    "        for j in range(i + 1, len(lst)):\n",
    "            if lst[i] + lst[j] == 10:\n",
    "                count += 1\n",
    "    return count\n",
    "\n",
    "# Main program\n",
    "my_list = [2, 7, 4, 1, 3, 6]\n",
    "result = count(my_list)\n",
    "print(\"Number of pairs with sum 10:\", result)\n"
   ]
  },
  {
   "cell_type": "code",
   "execution_count": 2,
   "id": "86a1158e-4a04-4176-a78e-ee984799ed27",
   "metadata": {},
   "outputs": [
    {
     "name": "stdout",
     "output_type": "stream",
     "text": [
      "Range: 8\n"
     ]
    }
   ],
   "source": [
    "# question 2\n",
    "def range(lst):\n",
    "    if len(lst) < 3:\n",
    "        return \"Range determination not possible\"\n",
    "    return max(lst) - min(lst)\n",
    "\n",
    "# Main program\n",
    "numbers = [5, 3, 8, 1, 0, 4]\n",
    "print(\"Range:\", range(numbers))\n"
   ]
  },
  {
   "cell_type": "code",
   "execution_count": 3,
   "id": "ec215756-f65e-4d63-a9d8-9626bf63ac92",
   "metadata": {},
   "outputs": [
    {
     "name": "stdout",
     "output_type": "stream",
     "text": [
      "Most frequent character: e\n",
      "Count: 2\n"
     ]
    }
   ],
   "source": [
    "# question 4\n",
    "def maxchar(s):\n",
    "    s = s.lower()  \n",
    "    max_char = ''\n",
    "    max_count = 0\n",
    "\n",
    "    for char in s:\n",
    "        if char.isalpha():  \n",
    "            count = s.count(char)\n",
    "            if count > max_count:\n",
    "                max_count = count\n",
    "                max_char = char\n",
    "    return max_char, max_count\n",
    "\n",
    "# Main program\n",
    "text = \"geethika\"\n",
    "char, count = maxchar(text)\n",
    "print(\"Most frequent character:\", char)\n",
    "print(\"Count:\", count)"
   ]
  },
  {
   "cell_type": "code",
   "execution_count": null,
   "id": "d9962ded-a723-4b7f-b034-ab2277b7f60a",
   "metadata": {},
   "outputs": [],
   "source": [
    "# question 5\n",
    "numbers = [1, 5, 3, 6, 2, 9, 4, 6, 8, 6, \n",
    "           2, 1, 3, 7, 6, 4, 5, 6, 3, 2,\n",
    "           5, 1, 6, 2, 4]\n",
    "\n",
    "# 1. Mean\n",
    "total = 0\n",
    "for num in numbers:\n",
    "    total += num\n",
    "mean = total / len(numbers)\n",
    "\n",
    "# 2. Median\n",
    "sorted_numbers = sorted(numbers)\n",
    "n = len(sorted_numbers)\n",
    "if n % 2 == 1:\n",
    "    median = sorted_numbers[n // 2]\n",
    "else:\n",
    "    mid1 = sorted_numbers[n // 2]\n",
    "    mid2 = sorted_numbers[n // 2 - 1]\n",
    "    median = (mid1 + mid2) / 2\n",
    "\n",
    "# 3. Mode\n",
    "max_count = 0\n",
    "mode = None\n",
    "for num in numbers:\n",
    "    count = numbers.count(num)\n",
    "    if count > max_count:\n",
    "        max_count = count\n",
    "        mode = num\n",
    "\n",
    "print(\"Numbers:\", numbers)\n",
    "print(\"Mean:\", mean)\n",
    "print(\"Median:\", median)\n",
    "print(\"Mode:\", mode)"
   ]
  }
 ],
 "metadata": {
  "kernelspec": {
   "display_name": "Python 3 (ipykernel)",
   "language": "python",
   "name": "python3"
  },
  "language_info": {
   "codemirror_mode": {
    "name": "ipython",
    "version": 3
   },
   "file_extension": ".py",
   "mimetype": "text/x-python",
   "name": "python",
   "nbconvert_exporter": "python",
   "pygments_lexer": "ipython3",
   "version": "3.10.10"
  }
 },
 "nbformat": 4,
 "nbformat_minor": 5
}
